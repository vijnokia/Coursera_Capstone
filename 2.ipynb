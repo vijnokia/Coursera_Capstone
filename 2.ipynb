{
    "nbformat_minor": 2, 
    "cells": [
        {
            "source": "# Applied Data Science Capstone Week 4", 
            "cell_type": "markdown", 
            "metadata": {}
        }, 
        {
            "source": "# The Battle of Neighborhoods - Part 2", 
            "cell_type": "markdown", 
            "metadata": {}
        }, 
        {
            "source": "## Title : Recommender System for Hotels in Bengaluru", 
            "cell_type": "markdown", 
            "metadata": {}
        }, 
        {
            "source": "### Data Requirements:", 
            "cell_type": "markdown", 
            "metadata": {}
        }, 
        {
            "source": "In order to build the Recommender System, we need the following data:\n1. To locate a restaurant in a certain place, we need the latitude and longitude of that place.\n1. To determine the quality of the restaurant, we need the data regarding the population of the neighborhood and the proportion of people who visit that restaurant. More the number of people visiting a restaurant, better will be the quality rating of the restaurant.\n1. To determine the income group of people who visit the restaurant, we need the income data of the people in the neighborhood.\n", 
            "cell_type": "markdown", 
            "metadata": {}
        }, 
        {
            "source": "### Data Collection:", 
            "cell_type": "markdown", 
            "metadata": {}
        }, 
        {
            "source": "The required dataset consists of three .csv files, one for each of the requirements specified above. Sample of all these datasets are shown below:", 
            "cell_type": "markdown", 
            "metadata": {}
        }, 
        {
            "execution_count": 1, 
            "cell_type": "code", 
            "source": "import pandas as pd\nimport numpy as np\ncomplete = pd.read_csv('documents/data/complete_dataset.csv')\ncomplete.drop('Unnamed: 0',axis=1,inplace=True)", 
            "outputs": [], 
            "metadata": {}
        }, 
        {
            "execution_count": 2, 
            "cell_type": "code", 
            "source": "location = pd.DataFrame(complete[['Borough', 'Neighborhoods', 'Latitude', 'Longitude']])\nlocation.head(10)", 
            "outputs": [
                {
                    "execution_count": 2, 
                    "output_type": "execute_result", 
                    "data": {
                        "text/plain": "   Borough      Neighborhoods   Latitude  Longitude\n0  Central    Cantonment area  12.972442  77.580643\n1  Central             Domlur  12.960992  77.638726\n2  Central        Indiranagar  12.971891  77.641151\n3  Central  Jeevanbheemanagar  12.962900  77.659500\n4  Central        Malleswaram  13.003100  77.564300\n5  Central          Pete area  12.962700  77.575800\n6  Central        Rajajinagar  12.990100  77.552500\n7  Central     Sadashivanagar  13.006800  77.581300\n8  Central      Seshadripuram  12.993500  77.578700\n9  Central       Shivajinagar  12.985700  77.605700", 
                        "text/html": "<div>\n<style scoped>\n    .dataframe tbody tr th:only-of-type {\n        vertical-align: middle;\n    }\n\n    .dataframe tbody tr th {\n        vertical-align: top;\n    }\n\n    .dataframe thead th {\n        text-align: right;\n    }\n</style>\n<table border=\"1\" class=\"dataframe\">\n  <thead>\n    <tr style=\"text-align: right;\">\n      <th></th>\n      <th>Borough</th>\n      <th>Neighborhoods</th>\n      <th>Latitude</th>\n      <th>Longitude</th>\n    </tr>\n  </thead>\n  <tbody>\n    <tr>\n      <th>0</th>\n      <td>Central</td>\n      <td>Cantonment area</td>\n      <td>12.972442</td>\n      <td>77.580643</td>\n    </tr>\n    <tr>\n      <th>1</th>\n      <td>Central</td>\n      <td>Domlur</td>\n      <td>12.960992</td>\n      <td>77.638726</td>\n    </tr>\n    <tr>\n      <th>2</th>\n      <td>Central</td>\n      <td>Indiranagar</td>\n      <td>12.971891</td>\n      <td>77.641151</td>\n    </tr>\n    <tr>\n      <th>3</th>\n      <td>Central</td>\n      <td>Jeevanbheemanagar</td>\n      <td>12.962900</td>\n      <td>77.659500</td>\n    </tr>\n    <tr>\n      <th>4</th>\n      <td>Central</td>\n      <td>Malleswaram</td>\n      <td>13.003100</td>\n      <td>77.564300</td>\n    </tr>\n    <tr>\n      <th>5</th>\n      <td>Central</td>\n      <td>Pete area</td>\n      <td>12.962700</td>\n      <td>77.575800</td>\n    </tr>\n    <tr>\n      <th>6</th>\n      <td>Central</td>\n      <td>Rajajinagar</td>\n      <td>12.990100</td>\n      <td>77.552500</td>\n    </tr>\n    <tr>\n      <th>7</th>\n      <td>Central</td>\n      <td>Sadashivanagar</td>\n      <td>13.006800</td>\n      <td>77.581300</td>\n    </tr>\n    <tr>\n      <th>8</th>\n      <td>Central</td>\n      <td>Seshadripuram</td>\n      <td>12.993500</td>\n      <td>77.578700</td>\n    </tr>\n    <tr>\n      <th>9</th>\n      <td>Central</td>\n      <td>Shivajinagar</td>\n      <td>12.985700</td>\n      <td>77.605700</td>\n    </tr>\n  </tbody>\n</table>\n</div>"
                    }, 
                    "metadata": {}
                }
            ], 
            "metadata": {}
        }, 
        {
            "execution_count": 3, 
            "cell_type": "code", 
            "source": "population = pd.DataFrame(complete[['Borough', 'Neighborhoods', 'Population']])\npopulation.head(10)", 
            "outputs": [
                {
                    "execution_count": 3, 
                    "output_type": "execute_result", 
                    "data": {
                        "text/plain": "   Borough      Neighborhoods  Population\n0  Central    Cantonment area      866377\n1  Central             Domlur      743186\n2  Central        Indiranagar      474289\n3  Central  Jeevanbheemanagar      527874\n4  Central        Malleswaram      893629\n5  Central          Pete area      730999\n6  Central        Rajajinagar      981362\n7  Central     Sadashivanagar      662625\n8  Central      Seshadripuram      396862\n9  Central       Shivajinagar       77836", 
                        "text/html": "<div>\n<style scoped>\n    .dataframe tbody tr th:only-of-type {\n        vertical-align: middle;\n    }\n\n    .dataframe tbody tr th {\n        vertical-align: top;\n    }\n\n    .dataframe thead th {\n        text-align: right;\n    }\n</style>\n<table border=\"1\" class=\"dataframe\">\n  <thead>\n    <tr style=\"text-align: right;\">\n      <th></th>\n      <th>Borough</th>\n      <th>Neighborhoods</th>\n      <th>Population</th>\n    </tr>\n  </thead>\n  <tbody>\n    <tr>\n      <th>0</th>\n      <td>Central</td>\n      <td>Cantonment area</td>\n      <td>866377</td>\n    </tr>\n    <tr>\n      <th>1</th>\n      <td>Central</td>\n      <td>Domlur</td>\n      <td>743186</td>\n    </tr>\n    <tr>\n      <th>2</th>\n      <td>Central</td>\n      <td>Indiranagar</td>\n      <td>474289</td>\n    </tr>\n    <tr>\n      <th>3</th>\n      <td>Central</td>\n      <td>Jeevanbheemanagar</td>\n      <td>527874</td>\n    </tr>\n    <tr>\n      <th>4</th>\n      <td>Central</td>\n      <td>Malleswaram</td>\n      <td>893629</td>\n    </tr>\n    <tr>\n      <th>5</th>\n      <td>Central</td>\n      <td>Pete area</td>\n      <td>730999</td>\n    </tr>\n    <tr>\n      <th>6</th>\n      <td>Central</td>\n      <td>Rajajinagar</td>\n      <td>981362</td>\n    </tr>\n    <tr>\n      <th>7</th>\n      <td>Central</td>\n      <td>Sadashivanagar</td>\n      <td>662625</td>\n    </tr>\n    <tr>\n      <th>8</th>\n      <td>Central</td>\n      <td>Seshadripuram</td>\n      <td>396862</td>\n    </tr>\n    <tr>\n      <th>9</th>\n      <td>Central</td>\n      <td>Shivajinagar</td>\n      <td>77836</td>\n    </tr>\n  </tbody>\n</table>\n</div>"
                    }, 
                    "metadata": {}
                }
            ], 
            "metadata": {}
        }, 
        {
            "execution_count": 4, 
            "cell_type": "code", 
            "source": "income = pd.read_csv('documents/data/income_dataset.csv')\nincome.drop('Unnamed: 0',axis=1,inplace=True)\nincome.head(10)", 
            "outputs": [
                {
                    "execution_count": 4, 
                    "output_type": "execute_result", 
                    "data": {
                        "text/plain": "   Borough      Neighborhoods  AverageIncome\n0  Central    Cantonment area   18944.099792\n1  Central             Domlur   56837.022198\n2  Central        Indiranagar   41991.817435\n3  Central  Jeevanbheemanagar    6667.447632\n4  Central        Malleswaram   53270.063892\n5  Central          Pete area   50712.430215\n6  Central        Rajajinagar   60967.535874\n7  Central     Sadashivanagar   59943.541564\n8  Central      Seshadripuram   58407.090338\n9  Central       Shivajinagar   55850.962099", 
                        "text/html": "<div>\n<style scoped>\n    .dataframe tbody tr th:only-of-type {\n        vertical-align: middle;\n    }\n\n    .dataframe tbody tr th {\n        vertical-align: top;\n    }\n\n    .dataframe thead th {\n        text-align: right;\n    }\n</style>\n<table border=\"1\" class=\"dataframe\">\n  <thead>\n    <tr style=\"text-align: right;\">\n      <th></th>\n      <th>Borough</th>\n      <th>Neighborhoods</th>\n      <th>AverageIncome</th>\n    </tr>\n  </thead>\n  <tbody>\n    <tr>\n      <th>0</th>\n      <td>Central</td>\n      <td>Cantonment area</td>\n      <td>18944.099792</td>\n    </tr>\n    <tr>\n      <th>1</th>\n      <td>Central</td>\n      <td>Domlur</td>\n      <td>56837.022198</td>\n    </tr>\n    <tr>\n      <th>2</th>\n      <td>Central</td>\n      <td>Indiranagar</td>\n      <td>41991.817435</td>\n    </tr>\n    <tr>\n      <th>3</th>\n      <td>Central</td>\n      <td>Jeevanbheemanagar</td>\n      <td>6667.447632</td>\n    </tr>\n    <tr>\n      <th>4</th>\n      <td>Central</td>\n      <td>Malleswaram</td>\n      <td>53270.063892</td>\n    </tr>\n    <tr>\n      <th>5</th>\n      <td>Central</td>\n      <td>Pete area</td>\n      <td>50712.430215</td>\n    </tr>\n    <tr>\n      <th>6</th>\n      <td>Central</td>\n      <td>Rajajinagar</td>\n      <td>60967.535874</td>\n    </tr>\n    <tr>\n      <th>7</th>\n      <td>Central</td>\n      <td>Sadashivanagar</td>\n      <td>59943.541564</td>\n    </tr>\n    <tr>\n      <th>8</th>\n      <td>Central</td>\n      <td>Seshadripuram</td>\n      <td>58407.090338</td>\n    </tr>\n    <tr>\n      <th>9</th>\n      <td>Central</td>\n      <td>Shivajinagar</td>\n      <td>55850.962099</td>\n    </tr>\n  </tbody>\n</table>\n</div>"
                    }, 
                    "metadata": {}
                }
            ], 
            "metadata": {}
        }, 
        {
            "source": "In addition to these datasets, we need FourSquare API to obtain nearest venue locations, so that we can form clusters of neighboring locations.", 
            "cell_type": "markdown", 
            "metadata": {}
        }
    ], 
    "nbformat": 4, 
    "metadata": {
        "kernelspec": {
            "display_name": "Python 3", 
            "name": "python3", 
            "language": "python"
        }, 
        "language_info": {
            "mimetype": "text/x-python", 
            "nbconvert_exporter": "python", 
            "version": "3.7.0", 
            "name": "python", 
            "file_extension": ".py", 
            "pygments_lexer": "ipython3", 
            "codemirror_mode": {
                "version": 3, 
                "name": "ipython"
            }
        }
    }
}