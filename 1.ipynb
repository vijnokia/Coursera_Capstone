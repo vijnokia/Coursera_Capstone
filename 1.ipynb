{
    "nbformat_minor": 2, 
    "cells": [
        {
            "source": "# Applied Data Science Capstone Week 4", 
            "cell_type": "markdown", 
            "metadata": {}
        }, 
        {
            "source": "# The Battle of Neighborhoods - Part 1", 
            "cell_type": "markdown", 
            "metadata": {}
        }, 
        {
            "source": "## Title : Recommender System for Hotels in Bengaluru", 
            "cell_type": "markdown", 
            "metadata": {}
        }, 
        {
            "source": "### Problem Background:", 
            "cell_type": "markdown", 
            "metadata": {}
        }, 
        {
            "source": "Bangalore, officially known as Bengaluru, is the capital city of the Indian state Karnataka. It is also known as Silicon Valley of India.  As per the 2018 statistics, the population of Bengaluru is about 124.476 lakhs and the geographical area is 709 sq.km. ", 
            "cell_type": "markdown", 
            "metadata": {}
        }, 
        {
            "source": "A variety of cuisine is available in Bengaluru; this reflects the social and economic diversity of the city. Roadside vendors, tea stalls, South Indian, North Indian, Muslim food, Chinese and Western fast food are all very popular in the city. Udupi restaurants, are very popular and serve predominantly vegetarian cuisine. The Chinese food and the Thai food served in many of the restaurants can be customised to cater to the tastes of the Indian population. Bengaluru can also be called a 'Foodie's Paradise' because of its vast variety of foods and edibles with a touch of its uniqueness and tradition", 
            "cell_type": "markdown", 
            "metadata": {}
        }, 
        {
            "source": "### Problem Description:", 
            "cell_type": "markdown", 
            "metadata": {}
        }, 
        {
            "source": "People go around the city of Bengaluru, either as a part of their work or for enjoying the vacation. They would like to know the type of food available in a particular area (neighborhood) they visit. In such a scenario, they can make use of the Recommender System, which should address the following points:\n1. Nearest restaurant with a good rating\n1. Type of food available in that restaurant\n1. Similar restaurants located nearby\n1. Comparison between them", 
            "cell_type": "markdown", 
            "metadata": {}
        }, 
        {
            "source": "### Target Audience:", 
            "cell_type": "markdown", 
            "metadata": {}
        }, 
        {
            "source": "People could simply decide to look for a similar restaurant all the time because they are addicted to a specific category of food. People who rarely use restaurants would prefer to have the most rated restaurants nearby them and all this information could be easily provided by this system. So, the target audience for this project is basically everyone who is exploring different places and various types of food they would like to taste.", 
            "cell_type": "markdown", 
            "metadata": {}
        }, 
        {
            "source": "### Success Rate:", 
            "cell_type": "markdown", 
            "metadata": {}
        }, 
        {
            "source": "With more and more restaurants evolving, new food categories emerge, and hybrid food starts to be more popular, people need a system that could help them access numerous varieties of food. It is impossible for a person to get these information manually. In such a situation, the Recommender System can be used as a personal assistant and success rate would certainly increase with time.\n", 
            "cell_type": "markdown", 
            "metadata": {}
        }
    ], 
    "metadata": {
        "kernelspec": {
            "display_name": "Python 3.5", 
            "name": "python3", 
            "language": "python"
        }, 
        "language_info": {
            "mimetype": "text/x-python", 
            "nbconvert_exporter": "python", 
            "version": "3.5.5", 
            "name": "python", 
            "file_extension": ".py", 
            "pygments_lexer": "ipython3", 
            "codemirror_mode": {
                "version": 3, 
                "name": "ipython"
            }
        }
    }, 
    "nbformat": 4
}