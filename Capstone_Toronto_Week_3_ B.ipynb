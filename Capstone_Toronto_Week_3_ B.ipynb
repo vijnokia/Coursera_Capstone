{
    "nbformat_minor": 2, 
    "cells": [
        {
            "execution_count": 189, 
            "cell_type": "code", 
            "source": "#Import the necessary libraries for the deployment\nimport requests\nfrom bs4 import BeautifulSoup\nimport pandas as pd\nimport pandas as pd # library for data analsysis\npd.set_option('display.max_columns', None)\npd.set_option('display.max_rows', None)\n\n#Set the location of the data and its saving process into the code.\npage = \"https://en.wikipedia.org/wiki/List_of_postal_codes_of_Canada:_M\"\nwikipedia_url = requests.get(page).text\nsoup = BeautifulSoup(wikipedia_url,'lxml')\n\n#Define the table to work with.\nmy_table = soup.find('table',{'class':'wikitable sortable'})", 
            "outputs": [], 
            "metadata": {}
        }, 
        {
            "execution_count": 190, 
            "cell_type": "code", 
            "source": "#Take the data from the format supported by Soup\nA = []\nB = []\nC = []\nfor i in my_table.findAll('tr')[1:]:\n    links = i.findAll('td')\n    A.append(links[0].find(text=True))\n    B.append(links[1].find(text=True))\n    C.append(links[2].find(text=True).rstrip()) #This clean the \\n characters", 
            "outputs": [], 
            "metadata": {}
        }, 
        {
            "execution_count": 191, 
            "cell_type": "code", 
            "source": "#Join the data into a DataFrame to further processing\ndf = pd.DataFrame(A,columns=['PostalCode'])\ndf['Borough'] = B\ndf['Neighborhood'] = C", 
            "outputs": [], 
            "metadata": {}
        }, 
        {
            "execution_count": 192, 
            "cell_type": "code", 
            "source": "#Delete the Not assigned rows in the df.\ndf = df.drop(df[df.Borough == 'Not assigned'].index)", 
            "outputs": [], 
            "metadata": {}
        }, 
        {
            "execution_count": 193, 
            "cell_type": "code", 
            "source": "#Join the elements by the repeated PostalCode values, and reset the index to further analysis.\ndf = df.groupby(['PostalCode','Borough'],sort=False).agg( ', '.join)\ndf = df.reset_index()", 
            "outputs": [], 
            "metadata": {}
        }, 
        {
            "execution_count": 194, 
            "cell_type": "code", 
            "source": "#Copy Borough to the Neighborhoods that have Not assigned after all the process.\ndf.Neighborhood[df[df.Neighborhood == 'Not assigned'].index] = df.Borough[df[df.Neighborhood == 'Not assigned'].index]", 
            "outputs": [], 
            "metadata": {}
        }, 
        {
            "execution_count": 195, 
            "cell_type": "code", 
            "source": "#Print the final shape of the df.\ndf.shape", 
            "outputs": [
                {
                    "execution_count": 195, 
                    "output_type": "execute_result", 
                    "data": {
                        "text/plain": "(103, 3)"
                    }, 
                    "metadata": {}
                }
            ], 
            "metadata": {}
        }, 
        {
            "execution_count": 196, 
            "cell_type": "code", 
            "source": "#Download the data\n!wget -q -O 'coordinates.csv' https://cocl.us/Geospatial_data", 
            "outputs": [], 
            "metadata": {}
        }, 
        {
            "execution_count": 197, 
            "cell_type": "code", 
            "source": "#Save the DF\ncoord_df = pd.read_csv('coordinates.csv')", 
            "outputs": [], 
            "metadata": {}
        }, 
        {
            "execution_count": 198, 
            "cell_type": "code", 
            "source": "#Join Both df for further analysis\nD = []\nE = []\nfor j in df.PostalCode:\n    D.append(coord_df.Latitude[coord_df[coord_df['Postal Code']==j].index].item())\n    E.append(coord_df.Longitude[coord_df[coord_df['Postal Code']==j].index].item())\ndf['Latitude'] = D\ndf['Longitude'] = E", 
            "outputs": [], 
            "metadata": {}
        }, 
        {
            "execution_count": 199, 
            "cell_type": "code", 
            "source": "df.head()", 
            "outputs": [
                {
                    "execution_count": 199, 
                    "output_type": "execute_result", 
                    "data": {
                        "text/plain": "  PostalCode           Borough                      Neighborhood   Latitude  \\\n0        M3A        North York                         Parkwoods  43.753259   \n1        M4A        North York                  Victoria Village  43.725882   \n2        M5A  Downtown Toronto         Harbourfront, Regent Park  43.654260   \n3        M6A        North York  Lawrence Heights, Lawrence Manor  43.718518   \n4        M7A      Queen's Park                      Queen's Park  43.662301   \n\n   Longitude  \n0 -79.329656  \n1 -79.315572  \n2 -79.360636  \n3 -79.464763  \n4 -79.389494  ", 
                        "text/html": "<div>\n<style scoped>\n    .dataframe tbody tr th:only-of-type {\n        vertical-align: middle;\n    }\n\n    .dataframe tbody tr th {\n        vertical-align: top;\n    }\n\n    .dataframe thead th {\n        text-align: right;\n    }\n</style>\n<table border=\"1\" class=\"dataframe\">\n  <thead>\n    <tr style=\"text-align: right;\">\n      <th></th>\n      <th>PostalCode</th>\n      <th>Borough</th>\n      <th>Neighborhood</th>\n      <th>Latitude</th>\n      <th>Longitude</th>\n    </tr>\n  </thead>\n  <tbody>\n    <tr>\n      <th>0</th>\n      <td>M3A</td>\n      <td>North York</td>\n      <td>Parkwoods</td>\n      <td>43.753259</td>\n      <td>-79.329656</td>\n    </tr>\n    <tr>\n      <th>1</th>\n      <td>M4A</td>\n      <td>North York</td>\n      <td>Victoria Village</td>\n      <td>43.725882</td>\n      <td>-79.315572</td>\n    </tr>\n    <tr>\n      <th>2</th>\n      <td>M5A</td>\n      <td>Downtown Toronto</td>\n      <td>Harbourfront, Regent Park</td>\n      <td>43.654260</td>\n      <td>-79.360636</td>\n    </tr>\n    <tr>\n      <th>3</th>\n      <td>M6A</td>\n      <td>North York</td>\n      <td>Lawrence Heights, Lawrence Manor</td>\n      <td>43.718518</td>\n      <td>-79.464763</td>\n    </tr>\n    <tr>\n      <th>4</th>\n      <td>M7A</td>\n      <td>Queen's Park</td>\n      <td>Queen's Park</td>\n      <td>43.662301</td>\n      <td>-79.389494</td>\n    </tr>\n  </tbody>\n</table>\n</div>"
                    }, 
                    "metadata": {}
                }
            ], 
            "metadata": {}
        }
    ], 
    "nbformat": 4, 
    "metadata": {
        "kernelspec": {
            "display_name": "Python 3", 
            "name": "python3", 
            "language": "python"
        }, 
        "language_info": {
            "mimetype": "text/x-python", 
            "nbconvert_exporter": "python", 
            "version": "3.6.8", 
            "name": "python", 
            "file_extension": ".py", 
            "pygments_lexer": "ipython3", 
            "codemirror_mode": {
                "version": 3, 
                "name": "ipython"
            }
        }
    }
}