{
    "nbformat_minor": 2, 
    "cells": [
        {
            "source": "#Import the necessary libraries for the deployment\nimport requests\nfrom bs4 import BeautifulSoup\nimport pandas as pd\nimport pandas as pd # library for data analsysis\npd.set_option('display.max_columns', None)\npd.set_option('display.max_rows', None)\n\n#Set the location of the data and its saving process into the code.\npage = \"https://en.wikipedia.org/wiki/List_of_postal_codes_of_Canada:_M\"\nwikipedia_url = requests.get(page).text\nsoup = BeautifulSoup(wikipedia_url,'lxml')\n\n#Define the table to work with.\nmy_table = soup.find('table',{'class':'wikitable sortable'})", 
            "cell_type": "code", 
            "metadata": {}, 
            "outputs": [], 
            "execution_count": 189
        }, 
        {
            "source": "#Take the data from the format supported by Soup\nA = []\nB = []\nC = []\nfor i in my_table.findAll('tr')[1:]:\n    links = i.findAll('td')\n    A.append(links[0].find(text=True))\n    B.append(links[1].find(text=True))\n    C.append(links[2].find(text=True).rstrip()) #This clean the \\n characters", 
            "cell_type": "code", 
            "metadata": {}, 
            "outputs": [], 
            "execution_count": 190
        }, 
        {
            "source": "#Join the data into a DataFrame to further processing\ndf = pd.DataFrame(A,columns=['PostalCode'])\ndf['Borough'] = B\ndf['Neighborhood'] = C", 
            "cell_type": "code", 
            "metadata": {}, 
            "outputs": [], 
            "execution_count": 191
        }, 
        {
            "source": "#Delete the Not assigned rows in the df.\ndf = df.drop(df[df.Borough == 'Not assigned'].index)", 
            "cell_type": "code", 
            "metadata": {}, 
            "outputs": [], 
            "execution_count": 192
        }, 
        {
            "source": "#Join the elements by the repeated PostalCode values, and reset the index to further analysis.\ndf = df.groupby(['PostalCode','Borough'],sort=False).agg( ', '.join)\ndf = df.reset_index()", 
            "cell_type": "code", 
            "metadata": {}, 
            "outputs": [], 
            "execution_count": 193
        }, 
        {
            "source": "#Copy Borough to the Neighborhoods that have Not assigned after all the process.\ndf.Neighborhood[df[df.Neighborhood == 'Not assigned'].index] = df.Borough[df[df.Neighborhood == 'Not assigned'].index]", 
            "cell_type": "code", 
            "metadata": {}, 
            "outputs": [], 
            "execution_count": 194
        }, 
        {
            "source": "#Print the final shape of the df.\ndf.shape", 
            "cell_type": "code", 
            "metadata": {}, 
            "outputs": [
                {
                    "execution_count": 195, 
                    "output_type": "execute_result", 
                    "data": {
                        "text/plain": "(103, 3)"
                    }, 
                    "metadata": {}
                }
            ], 
            "execution_count": 195
        }
    ], 
    "metadata": {
        "kernelspec": {
            "display_name": "Python 3.5", 
            "name": "python3", 
            "language": "python"
        }, 
        "language_info": {
            "mimetype": "text/x-python", 
            "nbconvert_exporter": "python", 
            "version": "3.5.5", 
            "name": "python", 
            "pygments_lexer": "ipython3", 
            "file_extension": ".py", 
            "codemirror_mode": {
                "version": 3, 
                "name": "ipython"
            }
        }
    }, 
    "nbformat": 4
}